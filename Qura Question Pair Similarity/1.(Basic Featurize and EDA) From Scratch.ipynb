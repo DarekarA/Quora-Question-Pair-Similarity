{
 "cells": [
  {
   "cell_type": "code",
   "execution_count": 40,
   "metadata": {},
   "outputs": [],
   "source": [
    "import pandas as pd\n",
    "import numpy as np\n",
    "import seaborn as sns\n",
    "import matplotlib.pyplot as plt\n",
    "import warnings\n",
    "warnings.filterwarnings('ignore')\n",
    "\n",
    "import os\n",
    "os.chdir('C:/Users/Abhishek/Desktop/Case Studies/AI ML/Quora Question Pair')"
   ]
  },
  {
   "cell_type": "code",
   "execution_count": 41,
   "metadata": {},
   "outputs": [
    {
     "data": {
      "text/html": [
       "<div>\n",
       "<style scoped>\n",
       "    .dataframe tbody tr th:only-of-type {\n",
       "        vertical-align: middle;\n",
       "    }\n",
       "\n",
       "    .dataframe tbody tr th {\n",
       "        vertical-align: top;\n",
       "    }\n",
       "\n",
       "    .dataframe thead th {\n",
       "        text-align: right;\n",
       "    }\n",
       "</style>\n",
       "<table border=\"1\" class=\"dataframe\">\n",
       "  <thead>\n",
       "    <tr style=\"text-align: right;\">\n",
       "      <th></th>\n",
       "      <th>id</th>\n",
       "      <th>qid1</th>\n",
       "      <th>qid2</th>\n",
       "      <th>question1</th>\n",
       "      <th>question2</th>\n",
       "      <th>is_duplicate</th>\n",
       "    </tr>\n",
       "  </thead>\n",
       "  <tbody>\n",
       "    <tr>\n",
       "      <th>0</th>\n",
       "      <td>0</td>\n",
       "      <td>1</td>\n",
       "      <td>2</td>\n",
       "      <td>What is the step by step guide to invest in sh...</td>\n",
       "      <td>What is the step by step guide to invest in sh...</td>\n",
       "      <td>0</td>\n",
       "    </tr>\n",
       "    <tr>\n",
       "      <th>1</th>\n",
       "      <td>1</td>\n",
       "      <td>3</td>\n",
       "      <td>4</td>\n",
       "      <td>What is the story of Kohinoor (Koh-i-Noor) Dia...</td>\n",
       "      <td>What would happen if the Indian government sto...</td>\n",
       "      <td>0</td>\n",
       "    </tr>\n",
       "    <tr>\n",
       "      <th>2</th>\n",
       "      <td>2</td>\n",
       "      <td>5</td>\n",
       "      <td>6</td>\n",
       "      <td>How can I increase the speed of my internet co...</td>\n",
       "      <td>How can Internet speed be increased by hacking...</td>\n",
       "      <td>0</td>\n",
       "    </tr>\n",
       "    <tr>\n",
       "      <th>3</th>\n",
       "      <td>3</td>\n",
       "      <td>7</td>\n",
       "      <td>8</td>\n",
       "      <td>Why am I mentally very lonely? How can I solve...</td>\n",
       "      <td>Find the remainder when [math]23^{24}[/math] i...</td>\n",
       "      <td>0</td>\n",
       "    </tr>\n",
       "    <tr>\n",
       "      <th>4</th>\n",
       "      <td>4</td>\n",
       "      <td>9</td>\n",
       "      <td>10</td>\n",
       "      <td>Which one dissolve in water quikly sugar, salt...</td>\n",
       "      <td>Which fish would survive in salt water?</td>\n",
       "      <td>0</td>\n",
       "    </tr>\n",
       "  </tbody>\n",
       "</table>\n",
       "</div>"
      ],
      "text/plain": [
       "   id  qid1  qid2                                          question1  \\\n",
       "0   0     1     2  What is the step by step guide to invest in sh...   \n",
       "1   1     3     4  What is the story of Kohinoor (Koh-i-Noor) Dia...   \n",
       "2   2     5     6  How can I increase the speed of my internet co...   \n",
       "3   3     7     8  Why am I mentally very lonely? How can I solve...   \n",
       "4   4     9    10  Which one dissolve in water quikly sugar, salt...   \n",
       "\n",
       "                                           question2  is_duplicate  \n",
       "0  What is the step by step guide to invest in sh...             0  \n",
       "1  What would happen if the Indian government sto...             0  \n",
       "2  How can Internet speed be increased by hacking...             0  \n",
       "3  Find the remainder when [math]23^{24}[/math] i...             0  \n",
       "4            Which fish would survive in salt water?             0  "
      ]
     },
     "execution_count": 41,
     "metadata": {},
     "output_type": "execute_result"
    }
   ],
   "source": [
    "#Read \n",
    "data = pd.read_csv('train.csv')\n",
    "data.head()"
   ]
  },
  {
   "cell_type": "code",
   "execution_count": 42,
   "metadata": {},
   "outputs": [
    {
     "data": {
      "text/plain": [
       "id               int64\n",
       "qid1             int64\n",
       "qid2             int64\n",
       "question1       object\n",
       "question2       object\n",
       "is_duplicate     int64\n",
       "dtype: object"
      ]
     },
     "execution_count": 42,
     "metadata": {},
     "output_type": "execute_result"
    }
   ],
   "source": [
    "data.dtypes"
   ]
  },
  {
   "cell_type": "code",
   "execution_count": 43,
   "metadata": {},
   "outputs": [
    {
     "name": "stdout",
     "output_type": "stream",
     "text": [
      "<class 'pandas.core.frame.DataFrame'>\n",
      "RangeIndex: 404290 entries, 0 to 404289\n",
      "Data columns (total 6 columns):\n",
      "id              404290 non-null int64\n",
      "qid1            404290 non-null int64\n",
      "qid2            404290 non-null int64\n",
      "question1       404289 non-null object\n",
      "question2       404288 non-null object\n",
      "is_duplicate    404290 non-null int64\n",
      "dtypes: int64(4), object(2)\n",
      "memory usage: 18.5+ MB\n"
     ]
    }
   ],
   "source": [
    "data.info()"
   ]
  },
  {
   "cell_type": "code",
   "execution_count": 44,
   "metadata": {},
   "outputs": [
    {
     "data": {
      "text/plain": [
       "id              0\n",
       "qid1            0\n",
       "qid2            0\n",
       "question1       1\n",
       "question2       2\n",
       "is_duplicate    0\n",
       "dtype: int64"
      ]
     },
     "execution_count": 44,
     "metadata": {},
     "output_type": "execute_result"
    }
   ],
   "source": [
    "# Very Few Missing Columns so we can just Delete\n",
    "data.isna().sum()"
   ]
  },
  {
   "cell_type": "code",
   "execution_count": 45,
   "metadata": {},
   "outputs": [],
   "source": [
    "data=data.dropna(axis=0,how='any')"
   ]
  },
  {
   "cell_type": "code",
   "execution_count": 46,
   "metadata": {},
   "outputs": [
    {
     "data": {
      "text/plain": [
       "(404287, 6)"
      ]
     },
     "execution_count": 46,
     "metadata": {},
     "output_type": "execute_result"
    }
   ],
   "source": [
    "data.shape"
   ]
  },
  {
   "cell_type": "markdown",
   "metadata": {},
   "source": [
    "# EDA"
   ]
  },
  {
   "cell_type": "code",
   "execution_count": 47,
   "metadata": {},
   "outputs": [
    {
     "data": {
      "text/plain": [
       "0    255024\n",
       "1    149263\n",
       "Name: is_duplicate, dtype: int64"
      ]
     },
     "execution_count": 47,
     "metadata": {},
     "output_type": "execute_result"
    }
   ],
   "source": [
    "# Counts for our Target i.e 0=Not- Duplicate , 1=Duplicate\n",
    "data[\"is_duplicate\"].value_counts()"
   ]
  },
  {
   "cell_type": "code",
   "execution_count": 48,
   "metadata": {},
   "outputs": [
    {
     "data": {
      "text/plain": [
       "Text(0, 0.5, 'Count')"
      ]
     },
     "execution_count": 48,
     "metadata": {},
     "output_type": "execute_result"
    },
    {
     "data": {
      "image/png": "[encoded data removed]",
      "text/plain": [
       "<Figure size 432x288 with 1 Axes>"
      ]
     },
     "metadata": {
      "needs_background": "light"
     },
     "output_type": "display_data"
    }
   ],
   "source": [
    "sns.countplot(data=data,x=\"is_duplicate\")\n",
    "plt.xlabel(\"is_duplicate (0: Not Duplicate , 1: Duplicate)\",size=15,color=\"Black\")\n",
    "plt.ylabel(\"Count\",size=15,color=\"Black\")"
   ]
  },
  {
   "cell_type": "code",
   "execution_count": 49,
   "metadata": {},
   "outputs": [
    {
     "name": "stdout",
     "output_type": "stream",
     "text": [
      "The total Number of pairs are :404287\n"
     ]
    }
   ],
   "source": [
    "#Total number of question pairs for training\n",
    "print(\"The total Number of pairs are :{}\".format(len(data)))"
   ]
  },
  {
   "cell_type": "code",
   "execution_count": 50,
   "metadata": {},
   "outputs": [
    {
     "name": "stdout",
     "output_type": "stream",
     "text": [
      "The % of Unsimilar pairs : 63.08\n",
      "The % of Duplicate pairs : 36.92\n"
     ]
    }
   ],
   "source": [
    "# Check % of Distribution of is_duplicate {0,1}\n",
    "\n",
    "print(\"The % of Unsimilar pairs :\",round(len(data[data[\"is_duplicate\"]==0])/len(data)*100,2))\n",
    "print(\"The % of Duplicate pairs :\",round(len(data[data[\"is_duplicate\"]==1])/len(data)*100,2))"
   ]
  },
  {
   "cell_type": "code",
   "execution_count": 51,
   "metadata": {},
   "outputs": [
    {
     "data": {
      "text/plain": [
       "Index(['id', 'qid1', 'qid2', 'question1', 'question2', 'is_duplicate'], dtype='object')"
      ]
     },
     "execution_count": 51,
     "metadata": {},
     "output_type": "execute_result"
    }
   ],
   "source": [
    "data.columns"
   ]
  },
  {
   "cell_type": "markdown",
   "metadata": {},
   "source": [
    "<h3> Number of unique questions </h3>"
   ]
  },
  {
   "cell_type": "code",
   "execution_count": 52,
   "metadata": {},
   "outputs": [
    {
     "name": "stdout",
     "output_type": "stream",
     "text": [
      "Total Question id are : 808574\n",
      "Unique Questions are  : 537929\n",
      "Questions that Occur more than once 111778 (20.779322178205675): \n"
     ]
    }
   ],
   "source": [
    "totalQid = data.qid1.append(data.qid2)\n",
    "uniqueQ=len(totalQid.unique())\n",
    "print(\"Total Question id are :\",len(totalQid))\n",
    "print(\"Unique Questions are  :\",uniqueQ)\n",
    "\n",
    "# Questions that Occur more than once\n",
    "morethanonceQid = sum(totalQid.value_counts() > 1)\n",
    "print('Questions that Occur more than once {} ({}): '.format(morethanonceQid ,morethanonceQid/len(totalQid.unique())*100))"
   ]
  },
  {
   "cell_type": "code",
   "execution_count": 53,
   "metadata": {},
   "outputs": [
    {
     "data": {
      "image/png": "[encoded data removed]",
      "text/plain": [
       "<Figure size 432x288 with 1 Axes>"
      ]
     },
     "metadata": {
      "needs_background": "light"
     },
     "output_type": "display_data"
    }
   ],
   "source": [
    "x=[uniqueQ,morethanonceQid] \n",
    "sns.countplot(x)\n",
    "#plt.ylim(0,1)\n",
    "plt.show()\n",
    "\n",
    "\n",
    "#y=[uniqueQ,morethanonceQid] \n",
    "#x=[\"uniqueQ\",\"morethanonceQid\"] \n",
    "#sns.barplot(x,y)"
   ]
  },
  {
   "cell_type": "markdown",
   "metadata": {},
   "source": [
    "<h3>Checking for Duplicates </h3>"
   ]
  },
  {
   "cell_type": "code",
   "execution_count": 54,
   "metadata": {},
   "outputs": [
    {
     "name": "stdout",
     "output_type": "stream",
     "text": [
      "Number of duplicate questions 0\n"
     ]
    }
   ],
   "source": [
    "pair_duplicates = data[['qid1','qid2','is_duplicate']].groupby(['qid1','qid2']).count().reset_index()\n",
    "\n",
    "print (\"Number of duplicate questions\",(pair_duplicates).shape[0] - data.shape[0])"
   ]
  },
  {
   "cell_type": "markdown",
   "metadata": {},
   "source": [
    "<h3> Number of occurrences of each question </h3>"
   ]
  },
  {
   "cell_type": "code",
   "execution_count": 55,
   "metadata": {},
   "outputs": [
    {
     "name": "stdout",
     "output_type": "stream",
     "text": [
      "Maximum number of times a single question is repeated: 157\n",
      "\n"
     ]
    },
    {
     "data": {
      "image/png": "[encoded data removed]",
      "text/plain": [
       "<Figure size 1440x720 with 1 Axes>"
      ]
     },
     "metadata": {
      "needs_background": "light"
     },
     "output_type": "display_data"
    }
   ],
   "source": [
    "plt.figure(figsize=(20, 10))\n",
    "\n",
    "\n",
    "plt.hist(totalQid.value_counts(),bins=160)\n",
    "plt.yscale('log')\n",
    "\n",
    "plt.title('Log-Histogram of question appearance counts')\n",
    "\n",
    "plt.xlabel('Number of occurences of question')\n",
    "\n",
    "plt.ylabel('Number of questions')\n",
    "\n",
    "print ('Maximum number of times a single question is repeated: {}\\n'.format(max(totalQid.value_counts()))) "
   ]
  },
  {
   "cell_type": "markdown",
   "metadata": {},
   "source": [
    "3.2.5 Checking for NULL values"
   ]
  },
  {
   "cell_type": "code",
   "execution_count": 56,
   "metadata": {},
   "outputs": [
    {
     "data": {
      "text/plain": [
       "id              0\n",
       "qid1            0\n",
       "qid2            0\n",
       "question1       0\n",
       "question2       0\n",
       "is_duplicate    0\n",
       "dtype: int64"
      ]
     },
     "execution_count": 56,
     "metadata": {},
     "output_type": "execute_result"
    }
   ],
   "source": [
    "#Checking whether there are any rows with null values\n",
    "data.isna().sum()\n",
    "\n",
    "# Filling the null values with ' ' if There are missing values"
   ]
  },
  {
   "cell_type": "markdown",
   "metadata": {},
   "source": [
    "<h2>Basic Feature Extraction (before cleaning) </h2>\n",
    "\n",
    "- https://www.youtube.com/watch?v=txMdrV1Ut64"
   ]
  },
  {
   "cell_type": "markdown",
   "metadata": {},
   "source": [
    "Let us now construct a few features like:\n",
    " - ____freq_qid1____ = Frequency of qid1's\n",
    " - ____freq_qid2____ = Frequency of qid2's \n",
    " - ____q1len____ = Length of q1\n",
    " - ____q2len____ = Length of q2\n",
    " - ____q1_n_words____ = Number of words in Question 1\n",
    " - ____q2_n_words____ = Number of words in Question 2\n",
    " - ____word_Common____ = (Number of common unique words in Question 1 and Question 2)\n",
    " - ____word_Total____ =(Total num of words in Question 1 + Total num of words in Question 2)\n",
    " - ____word_share____ = (word_common)/(word_Total)\n",
    " - ____freq_q1+freq_q2____ = sum total of frequency of qid1 and qid2 \n",
    " - ____freq_q1-freq_q2____ = absolute difference of frequency of qid1 and qid2 "
   ]
  },
  {
   "cell_type": "markdown",
   "metadata": {},
   "source": [
    "# Creating the Above features :\n",
    "\n",
    "## 1.df['word_Common']\n",
    "- 1.**map()** :**The map() function executes a specified function for each item in a iterable. The item is sent to the function as a parameter.**\n",
    "-  Here 1.lambda word: word.lower().strip() is the function.\n",
    "-  ____ 2.row['question1'].split(\" \") is the iterable object\n",
    "-  It will take words one by one from \"question1\",apply the function to it and place in set()\n",
    "\n",
    "\n",
    "- 2.**Set** : Build an unordered collection of **unique elements** (Will take the whole data and keep only unique elements)"
   ]
  },
  {
   "cell_type": "code",
   "execution_count": 63,
   "metadata": {},
   "outputs": [
    {
     "data": {
      "text/html": [
       "<div>\n",
       "<style scoped>\n",
       "    .dataframe tbody tr th:only-of-type {\n",
       "        vertical-align: middle;\n",
       "    }\n",
       "\n",
       "    .dataframe tbody tr th {\n",
       "        vertical-align: top;\n",
       "    }\n",
       "\n",
       "    .dataframe thead th {\n",
       "        text-align: right;\n",
       "    }\n",
       "</style>\n",
       "<table border=\"1\" class=\"dataframe\">\n",
       "  <thead>\n",
       "    <tr style=\"text-align: right;\">\n",
       "      <th></th>\n",
       "      <th>id</th>\n",
       "      <th>qid1</th>\n",
       "      <th>qid2</th>\n",
       "      <th>question1</th>\n",
       "      <th>question2</th>\n",
       "      <th>is_duplicate</th>\n",
       "      <th>freq_qid1</th>\n",
       "      <th>freq_qid2</th>\n",
       "      <th>q1len</th>\n",
       "      <th>q2len</th>\n",
       "      <th>q1_n_words</th>\n",
       "      <th>q2_n_words</th>\n",
       "      <th>word_Common</th>\n",
       "      <th>word_Total</th>\n",
       "      <th>word_share</th>\n",
       "      <th>freq_q1+q2</th>\n",
       "      <th>freq_q1-q2</th>\n",
       "    </tr>\n",
       "  </thead>\n",
       "  <tbody>\n",
       "    <tr>\n",
       "      <th>0</th>\n",
       "      <td>0</td>\n",
       "      <td>1</td>\n",
       "      <td>2</td>\n",
       "      <td>What is the step by step guide to invest in sh...</td>\n",
       "      <td>What is the step by step guide to invest in sh...</td>\n",
       "      <td>0</td>\n",
       "      <td>1</td>\n",
       "      <td>1</td>\n",
       "      <td>66</td>\n",
       "      <td>57</td>\n",
       "      <td>14</td>\n",
       "      <td>12</td>\n",
       "      <td>10</td>\n",
       "      <td>23</td>\n",
       "      <td>0.434783</td>\n",
       "      <td>2</td>\n",
       "      <td>0</td>\n",
       "    </tr>\n",
       "    <tr>\n",
       "      <th>1</th>\n",
       "      <td>1</td>\n",
       "      <td>3</td>\n",
       "      <td>4</td>\n",
       "      <td>What is the story of Kohinoor (Koh-i-Noor) Dia...</td>\n",
       "      <td>What would happen if the Indian government sto...</td>\n",
       "      <td>0</td>\n",
       "      <td>4</td>\n",
       "      <td>1</td>\n",
       "      <td>51</td>\n",
       "      <td>88</td>\n",
       "      <td>8</td>\n",
       "      <td>13</td>\n",
       "      <td>4</td>\n",
       "      <td>20</td>\n",
       "      <td>0.200000</td>\n",
       "      <td>5</td>\n",
       "      <td>3</td>\n",
       "    </tr>\n",
       "  </tbody>\n",
       "</table>\n",
       "</div>"
      ],
      "text/plain": [
       "   id  qid1  qid2                                          question1  \\\n",
       "0   0     1     2  What is the step by step guide to invest in sh...   \n",
       "1   1     3     4  What is the story of Kohinoor (Koh-i-Noor) Dia...   \n",
       "\n",
       "                                           question2  is_duplicate  freq_qid1  \\\n",
       "0  What is the step by step guide to invest in sh...             0          1   \n",
       "1  What would happen if the Indian government sto...             0          4   \n",
       "\n",
       "   freq_qid2  q1len  q2len  q1_n_words  q2_n_words  word_Common  word_Total  \\\n",
       "0          1     66     57          14          12           10          23   \n",
       "1          1     51     88           8          13            4          20   \n",
       "\n",
       "   word_share  freq_q1+q2  freq_q1-q2  \n",
       "0    0.434783           2           0  \n",
       "1    0.200000           5           3  "
      ]
     },
     "execution_count": 63,
     "metadata": {},
     "output_type": "execute_result"
    }
   ],
   "source": [
    "data.head(2)"
   ]
  },
  {
   "cell_type": "code",
   "execution_count": 58,
   "metadata": {},
   "outputs": [],
   "source": [
    "data[\"freq_qid1\"]=data.groupby(['qid1'])['qid1'].transform('count')  #.count() is also working similarrly but not sure so use transform('count')\n",
    "data[\"freq_qid2\"]=data.groupby(['qid2'])['qid2'].transform('count')\n",
    "data['q1len']=data[\"question1\"].apply(lambda x : len(x))\n",
    "data['q2len']=data[\"question2\"].apply(lambda x : len(x))\n",
    "data['q1_n_words']=data[\"question1\"].apply(lambda x : len(str(x).split()))\n",
    "data['q2_n_words']=data[\"question2\"].apply(lambda x : len(str(x).split()))\n",
    "\n",
    "def common_word(row):\n",
    "    w1=set(map(lambda x : x.lower().strip(),row[\"question1\"].split(\" \")))  # Set of all words in W1\n",
    "    w2=set(map(lambda x : x.lower().strip(),row[\"question2\"].split(\" \")))  # Set of all words in W2\n",
    "    return len(w1&w2) #Words Present in both W1 and W2\n",
    "data['word_Common']=data.apply(common_word,axis=1)\n",
    "\n",
    "def tot_words(row):\n",
    "    w1=set(map(lambda x : x.strip(),row[\"question1\"].split(\" \"))) #Strip :Return a copy of the string with leading and trailing whitespace removed.\n",
    "    w2=set(map(lambda x : x.strip(),row[\"question2\"].split(\" \")))\n",
    "    return len(w1) + len(w2) #Words Present in both W1 and W2\n",
    "data['word_Total']=data.apply(tot_words,axis=1)\n",
    "\n",
    "data['word_share'] =data['word_Common']/data['word_Total']\n",
    "data['freq_q1+q2'] = data['freq_qid1']+data['freq_qid2']\n",
    "data['freq_q1-q2'] = abs(data['freq_qid1']-data['freq_qid2']) #Absolute Value"
   ]
  },
  {
   "cell_type": "code",
   "execution_count": null,
   "metadata": {},
   "outputs": [],
   "source": []
  },
  {
   "cell_type": "markdown",
   "metadata": {},
   "source": [
    "<h3> Analysis of some of the extracted features </h3>"
   ]
  },
  {
   "cell_type": "code",
   "execution_count": 59,
   "metadata": {},
   "outputs": [
    {
     "name": "stdout",
     "output_type": "stream",
     "text": [
      "Minimum length of the questions in question1 : 1\n",
      "Minimum length of the questions in question2 : 1\n",
      "Minimum length of the questions in question2 : 69\n",
      "Minimum length of the questions in question2 : 25\n"
     ]
    }
   ],
   "source": [
    "print(\"Minimum length of the questions in question1 :\",data['q1_n_words'].min())\n",
    "print(\"Minimum length of the questions in question2 :\",data['q2_n_words'].min())\n",
    "\n",
    "print(\"Minimum length of the questions in question2 :\",len(data[data['q1_n_words']==1]))\n",
    "print(\"Minimum length of the questions in question2 :\",len(data[data['q2_n_words']==1]))"
   ]
  },
  {
   "cell_type": "code",
   "execution_count": 60,
   "metadata": {},
   "outputs": [
    {
     "data": {
      "text/plain": [
       "id                int64\n",
       "qid1              int64\n",
       "qid2              int64\n",
       "question1        object\n",
       "question2        object\n",
       "is_duplicate      int64\n",
       "freq_qid1         int64\n",
       "freq_qid2         int64\n",
       "q1len             int64\n",
       "q2len             int64\n",
       "q1_n_words        int64\n",
       "q2_n_words        int64\n",
       "word_Common       int64\n",
       "word_Total        int64\n",
       "word_share      float64\n",
       "freq_q1+q2        int64\n",
       "freq_q1-q2        int64\n",
       "dtype: object"
      ]
     },
     "execution_count": 60,
     "metadata": {},
     "output_type": "execute_result"
    }
   ],
   "source": [
    "#All our fetures are int ,except word_share which is float\n",
    "data.dtypes"
   ]
  },
  {
   "cell_type": "code",
   "execution_count": 61,
   "metadata": {},
   "outputs": [
    {
     "data": {
      "text/html": [
       "<div>\n",
       "<style scoped>\n",
       "    .dataframe tbody tr th:only-of-type {\n",
       "        vertical-align: middle;\n",
       "    }\n",
       "\n",
       "    .dataframe tbody tr th {\n",
       "        vertical-align: top;\n",
       "    }\n",
       "\n",
       "    .dataframe thead th {\n",
       "        text-align: right;\n",
       "    }\n",
       "</style>\n",
       "<table border=\"1\" class=\"dataframe\">\n",
       "  <thead>\n",
       "    <tr style=\"text-align: right;\">\n",
       "      <th></th>\n",
       "      <th>id</th>\n",
       "      <th>qid1</th>\n",
       "      <th>qid2</th>\n",
       "      <th>is_duplicate</th>\n",
       "      <th>freq_qid1</th>\n",
       "      <th>freq_qid2</th>\n",
       "      <th>q1len</th>\n",
       "      <th>q2len</th>\n",
       "      <th>q1_n_words</th>\n",
       "      <th>q2_n_words</th>\n",
       "      <th>word_Common</th>\n",
       "      <th>word_Total</th>\n",
       "      <th>word_share</th>\n",
       "      <th>freq_q1+q2</th>\n",
       "      <th>freq_q1-q2</th>\n",
       "    </tr>\n",
       "  </thead>\n",
       "  <tbody>\n",
       "    <tr>\n",
       "      <th>qid2</th>\n",
       "      <td>0.641991</td>\n",
       "      <td>0.700138</td>\n",
       "      <td>1.000000</td>\n",
       "      <td>-0.260101</td>\n",
       "      <td>-0.310959</td>\n",
       "      <td>-0.345283</td>\n",
       "      <td>0.050033</td>\n",
       "      <td>0.065485</td>\n",
       "      <td>0.041770</td>\n",
       "      <td>0.062816</td>\n",
       "      <td>-0.084591</td>\n",
       "      <td>0.061106</td>\n",
       "      <td>-0.112423</td>\n",
       "      <td>-0.382395</td>\n",
       "      <td>-0.271850</td>\n",
       "    </tr>\n",
       "    <tr>\n",
       "      <th>qid1</th>\n",
       "      <td>0.629371</td>\n",
       "      <td>1.000000</td>\n",
       "      <td>0.700138</td>\n",
       "      <td>-0.247070</td>\n",
       "      <td>-0.383712</td>\n",
       "      <td>-0.235650</td>\n",
       "      <td>0.054504</td>\n",
       "      <td>0.026775</td>\n",
       "      <td>0.043638</td>\n",
       "      <td>0.023783</td>\n",
       "      <td>-0.088044</td>\n",
       "      <td>0.037296</td>\n",
       "      <td>-0.107183</td>\n",
       "      <td>-0.345626</td>\n",
       "      <td>-0.211861</td>\n",
       "    </tr>\n",
       "    <tr>\n",
       "      <th>word_Total</th>\n",
       "      <td>0.003001</td>\n",
       "      <td>0.037296</td>\n",
       "      <td>0.061106</td>\n",
       "      <td>-0.183282</td>\n",
       "      <td>-0.013652</td>\n",
       "      <td>-0.022998</td>\n",
       "      <td>0.807504</td>\n",
       "      <td>0.842835</td>\n",
       "      <td>0.833072</td>\n",
       "      <td>0.862375</td>\n",
       "      <td>0.380730</td>\n",
       "      <td>1.000000</td>\n",
       "      <td>-0.190854</td>\n",
       "      <td>-0.021986</td>\n",
       "      <td>-0.005527</td>\n",
       "    </tr>\n",
       "    <tr>\n",
       "      <th>q1len</th>\n",
       "      <td>0.003906</td>\n",
       "      <td>0.054504</td>\n",
       "      <td>0.050033</td>\n",
       "      <td>-0.171088</td>\n",
       "      <td>-0.031983</td>\n",
       "      <td>-0.015637</td>\n",
       "      <td>1.000000</td>\n",
       "      <td>0.484578</td>\n",
       "      <td>0.958020</td>\n",
       "      <td>0.458723</td>\n",
       "      <td>0.312427</td>\n",
       "      <td>0.807504</td>\n",
       "      <td>-0.166113</td>\n",
       "      <td>-0.026154</td>\n",
       "      <td>-0.008636</td>\n",
       "    </tr>\n",
       "    <tr>\n",
       "      <th>q2len</th>\n",
       "      <td>0.001610</td>\n",
       "      <td>0.026775</td>\n",
       "      <td>0.065485</td>\n",
       "      <td>-0.161974</td>\n",
       "      <td>-0.010355</td>\n",
       "      <td>-0.033177</td>\n",
       "      <td>0.484578</td>\n",
       "      <td>1.000000</td>\n",
       "      <td>0.461798</td>\n",
       "      <td>0.967561</td>\n",
       "      <td>0.311281</td>\n",
       "      <td>0.842835</td>\n",
       "      <td>-0.158593</td>\n",
       "      <td>-0.027106</td>\n",
       "      <td>-0.011979</td>\n",
       "    </tr>\n",
       "    <tr>\n",
       "      <th>q2_n_words</th>\n",
       "      <td>0.001119</td>\n",
       "      <td>0.023783</td>\n",
       "      <td>0.062816</td>\n",
       "      <td>-0.160407</td>\n",
       "      <td>-0.009076</td>\n",
       "      <td>-0.034773</td>\n",
       "      <td>0.458723</td>\n",
       "      <td>0.967561</td>\n",
       "      <td>0.471456</td>\n",
       "      <td>1.000000</td>\n",
       "      <td>0.309604</td>\n",
       "      <td>0.862375</td>\n",
       "      <td>-0.164373</td>\n",
       "      <td>-0.027533</td>\n",
       "      <td>-0.013625</td>\n",
       "    </tr>\n",
       "    <tr>\n",
       "      <th>q1_n_words</th>\n",
       "      <td>0.003545</td>\n",
       "      <td>0.043638</td>\n",
       "      <td>0.041770</td>\n",
       "      <td>-0.154253</td>\n",
       "      <td>-0.020947</td>\n",
       "      <td>-0.008094</td>\n",
       "      <td>0.958020</td>\n",
       "      <td>0.461798</td>\n",
       "      <td>1.000000</td>\n",
       "      <td>0.471456</td>\n",
       "      <td>0.328506</td>\n",
       "      <td>0.833072</td>\n",
       "      <td>-0.158117</td>\n",
       "      <td>-0.015705</td>\n",
       "      <td>-0.000215</td>\n",
       "    </tr>\n",
       "    <tr>\n",
       "      <th>id</th>\n",
       "      <td>1.000000</td>\n",
       "      <td>0.629371</td>\n",
       "      <td>0.641991</td>\n",
       "      <td>-0.008783</td>\n",
       "      <td>-0.002686</td>\n",
       "      <td>-0.001308</td>\n",
       "      <td>0.003906</td>\n",
       "      <td>0.001610</td>\n",
       "      <td>0.003545</td>\n",
       "      <td>0.001119</td>\n",
       "      <td>-0.000012</td>\n",
       "      <td>0.003001</td>\n",
       "      <td>-0.002264</td>\n",
       "      <td>-0.002192</td>\n",
       "      <td>0.000253</td>\n",
       "    </tr>\n",
       "    <tr>\n",
       "      <th>freq_q1-q2</th>\n",
       "      <td>0.000253</td>\n",
       "      <td>-0.211861</td>\n",
       "      <td>-0.271850</td>\n",
       "      <td>0.127097</td>\n",
       "      <td>0.438490</td>\n",
       "      <td>0.827815</td>\n",
       "      <td>-0.008636</td>\n",
       "      <td>-0.011979</td>\n",
       "      <td>-0.000215</td>\n",
       "      <td>-0.013625</td>\n",
       "      <td>0.048731</td>\n",
       "      <td>-0.005527</td>\n",
       "      <td>0.031486</td>\n",
       "      <td>0.765237</td>\n",
       "      <td>1.000000</td>\n",
       "    </tr>\n",
       "    <tr>\n",
       "      <th>word_Common</th>\n",
       "      <td>-0.000012</td>\n",
       "      <td>-0.088044</td>\n",
       "      <td>-0.084591</td>\n",
       "      <td>0.232283</td>\n",
       "      <td>0.098955</td>\n",
       "      <td>0.068581</td>\n",
       "      <td>0.312427</td>\n",
       "      <td>0.311281</td>\n",
       "      <td>0.328506</td>\n",
       "      <td>0.309604</td>\n",
       "      <td>1.000000</td>\n",
       "      <td>0.380730</td>\n",
       "      <td>0.771669</td>\n",
       "      <td>0.094311</td>\n",
       "      <td>0.048731</td>\n",
       "    </tr>\n",
       "    <tr>\n",
       "      <th>freq_qid2</th>\n",
       "      <td>-0.001308</td>\n",
       "      <td>-0.235650</td>\n",
       "      <td>-0.345283</td>\n",
       "      <td>0.234760</td>\n",
       "      <td>0.484143</td>\n",
       "      <td>1.000000</td>\n",
       "      <td>-0.015637</td>\n",
       "      <td>-0.033177</td>\n",
       "      <td>-0.008094</td>\n",
       "      <td>-0.034773</td>\n",
       "      <td>0.068581</td>\n",
       "      <td>-0.022998</td>\n",
       "      <td>0.062571</td>\n",
       "      <td>0.901921</td>\n",
       "      <td>0.827815</td>\n",
       "    </tr>\n",
       "    <tr>\n",
       "      <th>freq_q1+q2</th>\n",
       "      <td>-0.002192</td>\n",
       "      <td>-0.345626</td>\n",
       "      <td>-0.382395</td>\n",
       "      <td>0.323320</td>\n",
       "      <td>0.814568</td>\n",
       "      <td>0.901921</td>\n",
       "      <td>-0.026154</td>\n",
       "      <td>-0.027106</td>\n",
       "      <td>-0.015705</td>\n",
       "      <td>-0.027533</td>\n",
       "      <td>0.094311</td>\n",
       "      <td>-0.021986</td>\n",
       "      <td>0.088891</td>\n",
       "      <td>1.000000</td>\n",
       "      <td>0.765237</td>\n",
       "    </tr>\n",
       "    <tr>\n",
       "      <th>freq_qid1</th>\n",
       "      <td>-0.002686</td>\n",
       "      <td>-0.383712</td>\n",
       "      <td>-0.310959</td>\n",
       "      <td>0.339718</td>\n",
       "      <td>1.000000</td>\n",
       "      <td>0.484143</td>\n",
       "      <td>-0.031983</td>\n",
       "      <td>-0.010355</td>\n",
       "      <td>-0.020947</td>\n",
       "      <td>-0.009076</td>\n",
       "      <td>0.098955</td>\n",
       "      <td>-0.013652</td>\n",
       "      <td>0.096048</td>\n",
       "      <td>0.814568</td>\n",
       "      <td>0.438490</td>\n",
       "    </tr>\n",
       "    <tr>\n",
       "      <th>word_share</th>\n",
       "      <td>-0.002264</td>\n",
       "      <td>-0.107183</td>\n",
       "      <td>-0.112423</td>\n",
       "      <td>0.385548</td>\n",
       "      <td>0.096048</td>\n",
       "      <td>0.062571</td>\n",
       "      <td>-0.166113</td>\n",
       "      <td>-0.158593</td>\n",
       "      <td>-0.158117</td>\n",
       "      <td>-0.164373</td>\n",
       "      <td>0.771669</td>\n",
       "      <td>-0.190854</td>\n",
       "      <td>1.000000</td>\n",
       "      <td>0.088891</td>\n",
       "      <td>0.031486</td>\n",
       "    </tr>\n",
       "    <tr>\n",
       "      <th>is_duplicate</th>\n",
       "      <td>-0.008783</td>\n",
       "      <td>-0.247070</td>\n",
       "      <td>-0.260101</td>\n",
       "      <td>1.000000</td>\n",
       "      <td>0.339718</td>\n",
       "      <td>0.234760</td>\n",
       "      <td>-0.171088</td>\n",
       "      <td>-0.161974</td>\n",
       "      <td>-0.154253</td>\n",
       "      <td>-0.160407</td>\n",
       "      <td>0.232283</td>\n",
       "      <td>-0.183282</td>\n",
       "      <td>0.385548</td>\n",
       "      <td>0.323320</td>\n",
       "      <td>0.127097</td>\n",
       "    </tr>\n",
       "  </tbody>\n",
       "</table>\n",
       "</div>"
      ],
      "text/plain": [
       "                    id      qid1      qid2  is_duplicate  freq_qid1  \\\n",
       "qid2          0.641991  0.700138  1.000000     -0.260101  -0.310959   \n",
       "qid1          0.629371  1.000000  0.700138     -0.247070  -0.383712   \n",
       "word_Total    0.003001  0.037296  0.061106     -0.183282  -0.013652   \n",
       "q1len         0.003906  0.054504  0.050033     -0.171088  -0.031983   \n",
       "q2len         0.001610  0.026775  0.065485     -0.161974  -0.010355   \n",
       "q2_n_words    0.001119  0.023783  0.062816     -0.160407  -0.009076   \n",
       "q1_n_words    0.003545  0.043638  0.041770     -0.154253  -0.020947   \n",
       "id            1.000000  0.629371  0.641991     -0.008783  -0.002686   \n",
       "freq_q1-q2    0.000253 -0.211861 -0.271850      0.127097   0.438490   \n",
       "word_Common  -0.000012 -0.088044 -0.084591      0.232283   0.098955   \n",
       "freq_qid2    -0.001308 -0.235650 -0.345283      0.234760   0.484143   \n",
       "freq_q1+q2   -0.002192 -0.345626 -0.382395      0.323320   0.814568   \n",
       "freq_qid1    -0.002686 -0.383712 -0.310959      0.339718   1.000000   \n",
       "word_share   -0.002264 -0.107183 -0.112423      0.385548   0.096048   \n",
       "is_duplicate -0.008783 -0.247070 -0.260101      1.000000   0.339718   \n",
       "\n",
       "              freq_qid2     q1len     q2len  q1_n_words  q2_n_words  \\\n",
       "qid2          -0.345283  0.050033  0.065485    0.041770    0.062816   \n",
       "qid1          -0.235650  0.054504  0.026775    0.043638    0.023783   \n",
       "word_Total    -0.022998  0.807504  0.842835    0.833072    0.862375   \n",
       "q1len         -0.015637  1.000000  0.484578    0.958020    0.458723   \n",
       "q2len         -0.033177  0.484578  1.000000    0.461798    0.967561   \n",
       "q2_n_words    -0.034773  0.458723  0.967561    0.471456    1.000000   \n",
       "q1_n_words    -0.008094  0.958020  0.461798    1.000000    0.471456   \n",
       "id            -0.001308  0.003906  0.001610    0.003545    0.001119   \n",
       "freq_q1-q2     0.827815 -0.008636 -0.011979   -0.000215   -0.013625   \n",
       "word_Common    0.068581  0.312427  0.311281    0.328506    0.309604   \n",
       "freq_qid2      1.000000 -0.015637 -0.033177   -0.008094   -0.034773   \n",
       "freq_q1+q2     0.901921 -0.026154 -0.027106   -0.015705   -0.027533   \n",
       "freq_qid1      0.484143 -0.031983 -0.010355   -0.020947   -0.009076   \n",
       "word_share     0.062571 -0.166113 -0.158593   -0.158117   -0.164373   \n",
       "is_duplicate   0.234760 -0.171088 -0.161974   -0.154253   -0.160407   \n",
       "\n",
       "              word_Common  word_Total  word_share  freq_q1+q2  freq_q1-q2  \n",
       "qid2            -0.084591    0.061106   -0.112423   -0.382395   -0.271850  \n",
       "qid1            -0.088044    0.037296   -0.107183   -0.345626   -0.211861  \n",
       "word_Total       0.380730    1.000000   -0.190854   -0.021986   -0.005527  \n",
       "q1len            0.312427    0.807504   -0.166113   -0.026154   -0.008636  \n",
       "q2len            0.311281    0.842835   -0.158593   -0.027106   -0.011979  \n",
       "q2_n_words       0.309604    0.862375   -0.164373   -0.027533   -0.013625  \n",
       "q1_n_words       0.328506    0.833072   -0.158117   -0.015705   -0.000215  \n",
       "id              -0.000012    0.003001   -0.002264   -0.002192    0.000253  \n",
       "freq_q1-q2       0.048731   -0.005527    0.031486    0.765237    1.000000  \n",
       "word_Common      1.000000    0.380730    0.771669    0.094311    0.048731  \n",
       "freq_qid2        0.068581   -0.022998    0.062571    0.901921    0.827815  \n",
       "freq_q1+q2       0.094311   -0.021986    0.088891    1.000000    0.765237  \n",
       "freq_qid1        0.098955   -0.013652    0.096048    0.814568    0.438490  \n",
       "word_share       0.771669   -0.190854    1.000000    0.088891    0.031486  \n",
       "is_duplicate     0.232283   -0.183282    0.385548    0.323320    0.127097  "
      ]
     },
     "execution_count": 61,
     "metadata": {},
     "output_type": "execute_result"
    }
   ],
   "source": [
    "data.corr().sort_values(by='is_duplicate')\n",
    "\n",
    "#word_share, freq_qid1, freq_q1+q2, freq_qid2,word_Common Have Good Correlation with is_duplicate."
   ]
  },
  {
   "cell_type": "markdown",
   "metadata": {},
   "source": [
    "# Visualise"
   ]
  },
  {
   "cell_type": "code",
   "execution_count": 65,
   "metadata": {},
   "outputs": [
    {
     "data": {
      "image/png": "[encoded data removed]",
      "text/plain": [
       "<Figure size 864x576 with 1 Axes>"
      ]
     },
     "metadata": {
      "needs_background": "light"
     },
     "output_type": "display_data"
    }
   ],
   "source": [
    "plt.figure(figsize=(12, 8))\n",
    "\n",
    "sns.distplot(data[data['is_duplicate'] == 1.0]['word_share'][0:] , label = \"1\", color = 'red')\n",
    "sns.distplot(data[data['is_duplicate'] == 0.0]['word_share'][0:] , label = \"0\" , color = 'blue' )\n",
    "plt.show()\n",
    "\n",
    "#- The distributions for word_share have some overlap on the far right-hand side, i.e., there are quite a lot of questions with high word similarity\n",
    "#- The average word share and Common no. of words of qid1 and qid2 is more when they are duplicate(Similar)"
   ]
  },
  {
   "cell_type": "code",
   "execution_count": 67,
   "metadata": {},
   "outputs": [
    {
     "data": {
      "image/png": "[encoded data removed]",
      "text/plain": [
       "<Figure size 864x576 with 1 Axes>"
      ]
     },
     "metadata": {
      "needs_background": "light"
     },
     "output_type": "display_data"
    }
   ],
   "source": [
    "plt.figure(figsize=(12, 8))\n",
    "\n",
    "sns.distplot(data[data['is_duplicate'] == 1.0]['word_Common'][0:] , label = \"1\", color = 'red')\n",
    "sns.distplot(data[data['is_duplicate'] == 0.0]['word_Common'][0:] , label = \"0\" , color = 'blue' )\n",
    "plt.show()\n",
    "\n",
    "\n",
    "#Highly Overlapping , no real conclusion here"
   ]
  },
  {
   "cell_type": "markdown",
   "metadata": {},
   "source": [
    "## Save this Excel to use in step2"
   ]
  }
 ],
 "metadata": {
  "kernelspec": {
   "display_name": "Python 3",
   "language": "python",
   "name": "python3"
  },
  "language_info": {
   "codemirror_mode": {
    "name": "ipython",
    "version": 3
   },
   "file_extension": ".py",
   "mimetype": "text/x-python",
   "name": "python",
   "nbconvert_exporter": "python",
   "pygments_lexer": "ipython3",
   "version": "3.7.6"
  }
 },
 "nbformat": 4,
 "nbformat_minor": 2
}
